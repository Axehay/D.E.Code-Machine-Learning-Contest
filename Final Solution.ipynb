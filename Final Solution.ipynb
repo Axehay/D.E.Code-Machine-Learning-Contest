{
 "cells": [
  {
   "cell_type": "code",
   "execution_count": null,
   "metadata": {
    "collapsed": true
   },
   "outputs": [],
   "source": [
    "import pandas as pd;\n",
    "from sklearn.neighbors import KNeighborsRegressor\n",
    "import warnings\n",
    "warnings.filterwarnings(\"ignore\")\n",
    "\n",
    "## training data\n",
    "df=pd.read_csv(\"investmentsData.csv\")\n",
    "\n",
    "##test data\n",
    "test=pd.read_csv(\"samplesubmission.csv\")\n",
    "te=pd.DataFrame(test)\n",
    "\n",
    "## convertin date to months\n",
    "df['Date'] = df['Date'].apply(lambda x: int(str(x)[-2:]))\n",
    "\n",
    "## adding month as July to testing data\n",
    "te['Date']=7\n",
    "\n",
    "## Initially some of the advisor IDs are negative but IDs can't be negative so here I am taking the absolute value of IDs \n",
    "df['Advisor_Id']=abs(df['Advisor_Id'])\n",
    "\n",
    "## taking the training data features\n",
    "tr_X = df[['Advisor_Id','Investment_Id']]\n",
    "\n",
    "## output of our training data\n",
    "tr_y = df[['Transaction_Type']]\n",
    "\n",
    "## taking the training data features\n",
    "te_X = te[[ 'Advisor_Id','Investment_Id']]\n",
    "\n",
    "## taking KNeighborsRegressor model for predictions\n",
    "model = KNeighborsRegressor(n_neighbors=750,algorithm='auto',weights='distance')\n",
    "\n",
    "## training and predicting\n",
    "prediction=model.fit(tr_X, tr_y).predict(te_X)\n",
    "pred=pd.DataFrame(prediction)\n",
    "\n",
    "pred.insert(loc=0,column='Investment_Id',value=te['Investment_Id'])\n",
    "pred.insert(loc=0,column='Advisor_Id',value=te['Advisor_Id'])\n",
    "\n",
    "## final output csv file created \n",
    "pred.to_csv(path_or_buf='answer15.csv',header=['Advisor_Id','Investment_Id','Transaction_Type'],mode='w',index=False)\n",
    "\n"
   ]
  }
 ],
 "metadata": {
  "kernelspec": {
   "display_name": "Python 3",
   "language": "python",
   "name": "python3"
  },
  "language_info": {
   "codemirror_mode": {
    "name": "ipython",
    "version": 3
   },
   "file_extension": ".py",
   "mimetype": "text/x-python",
   "name": "python",
   "nbconvert_exporter": "python",
   "pygments_lexer": "ipython3",
   "version": "3.6.1"
  }
 },
 "nbformat": 4,
 "nbformat_minor": 2
}
